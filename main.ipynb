{
 "cells": [
  {
   "cell_type": "markdown",
   "metadata": {},
   "source": [
    "# Regression Used Cars Dataset\n",
    "\n",
    "https://www.kaggle.com/datasets/austinreese/craigslist-carstrucks-data \n"
   ]
  },
  {
   "cell_type": "markdown",
   "metadata": {},
   "source": [
    "#### **Dependency**"
   ]
  },
  {
   "cell_type": "code",
   "execution_count": 1,
   "metadata": {},
   "outputs": [],
   "source": [
    "#! pip install lightgbm\n",
    "\n",
    "import numpy as np # linear algebra\n",
    "import pandas as pd # data processing, CSV file I/O (e.g. pd.read_csv)\n",
    "from itertools import combinations  # For creating combinations of elements\n",
    "import matplotlib.pyplot as plt\n",
    "from sklearn.model_selection import GridSearchCV,train_test_split\n",
    "from sklearn.metrics import mean_squared_error,mean_absolute_error,r2_score\n",
    "import lightgbm as lgb \n",
    "from sklearn.linear_model import LinearRegression\n",
    "from sklearn.cluster import KMeans\n",
    "from sklearn import preprocessing\n",
    "import re\n",
    "from sklearn.preprocessing import StandardScaler"
   ]
  },
  {
   "cell_type": "markdown",
   "metadata": {},
   "source": [
    "#### **Utility Function**"
   ]
  },
  {
   "cell_type": "code",
   "execution_count": 2,
   "metadata": {},
   "outputs": [],
   "source": [
    "def reduce_mem_usage(df, verbose=0):\n",
    "    \"\"\"\n",
    "    Iterate through all numeric columns of a dataframe and modify the data type\n",
    "    to reduce memory usage.\n",
    "    \"\"\"\n",
    "    # Calculate the initial memory usage of the DataFrame\n",
    "    start_mem = df.memory_usage().sum() / 1024**2\n",
    "\n",
    "    # 🔄 Iterate through each column in the DataFrame\n",
    "    for col in df.columns:\n",
    "        col_type = df[col].dtype\n",
    "        # Check if the column's data type is not 'object' (i.e., numeric)\n",
    "        if col_type != object:\n",
    "            c_min = df[col].min()\n",
    "            c_max = df[col].max()\n",
    "            # Check if the column's data type is an integer\n",
    "            if str(col_type)[:3] == \"int\":\n",
    "                if c_min > np.iinfo(np.int8).min and c_max < np.iinfo(np.int8).max:\n",
    "                    df[col] = df[col].astype(np.int8)\n",
    "                elif c_min > np.iinfo(np.int16).min and c_max < np.iinfo(np.int16).max:\n",
    "                    df[col] = df[col].astype(np.int16)\n",
    "                elif c_min > np.iinfo(np.int32).min and c_max < np.iinfo(np.int32).max:\n",
    "                    df[col] = df[col].astype(np.int32)\n",
    "                elif c_min > np.iinfo(np.int64).min and c_max < np.iinfo(np.int64).max:\n",
    "                    df[col] = df[col].astype(np.int64)\n",
    "            elif str(col_type)[:5] == \"float\":\n",
    "                # Check if the column's data type is a float\n",
    "                if c_min > np.finfo(np.float16).min and c_max < np.finfo(np.float16).max:\n",
    "                    df[col] = df[col].astype(np.float32)\n",
    "                elif c_min > np.finfo(np.float32).min and c_max < np.finfo(np.float32).max:\n",
    "                    df[col] = df[col].astype(np.float32)\n",
    "                else:\n",
    "                    df[col] = df[col].astype(np.float32)\n",
    "    # ℹ️ Provide memory optimization information if 'verbose' is True\n",
    "    if verbose:\n",
    "        print(f\"Memory usage of dataframe is {start_mem:.2f} MB\")\n",
    "        end_mem = df.memory_usage().sum() / 1024**2\n",
    "        print(f\"Memory usage after optimization is: {end_mem:.2f} MB\")\n",
    "        decrease = 100 * (start_mem - end_mem) / start_mem\n",
    "        print(f\"Decreased by {decrease:.2f}%\")\n",
    "\n",
    "    # Return the DataFrame with optimized memory usage\n",
    "    return df"
   ]
  },
  {
   "cell_type": "markdown",
   "metadata": {},
   "source": [
    "#### **Load Data**\n",
    "\n",
    "load csv inside data folder"
   ]
  },
  {
   "cell_type": "code",
   "execution_count": 3,
   "metadata": {},
   "outputs": [
    {
     "name": "stdout",
     "output_type": "stream",
     "text": [
      "Memory usage of dataframe is 87.53 MB\n",
      "Memory usage after optimization is: 87.53 MB\n",
      "Decreased by 0.00%\n"
     ]
    },
    {
     "data": {
      "text/html": [
       "<div>\n",
       "<style scoped>\n",
       "    .dataframe tbody tr th:only-of-type {\n",
       "        vertical-align: middle;\n",
       "    }\n",
       "\n",
       "    .dataframe tbody tr th {\n",
       "        vertical-align: top;\n",
       "    }\n",
       "\n",
       "    .dataframe thead th {\n",
       "        text-align: right;\n",
       "    }\n",
       "</style>\n",
       "<table border=\"1\" class=\"dataframe\">\n",
       "  <thead>\n",
       "    <tr style=\"text-align: right;\">\n",
       "      <th></th>\n",
       "      <th>id</th>\n",
       "      <th>url</th>\n",
       "      <th>region</th>\n",
       "      <th>region_url</th>\n",
       "      <th>price</th>\n",
       "      <th>year</th>\n",
       "      <th>manufacturer</th>\n",
       "      <th>model</th>\n",
       "      <th>condition</th>\n",
       "      <th>cylinders</th>\n",
       "      <th>...</th>\n",
       "      <th>size</th>\n",
       "      <th>type</th>\n",
       "      <th>paint_color</th>\n",
       "      <th>image_url</th>\n",
       "      <th>description</th>\n",
       "      <th>county</th>\n",
       "      <th>state</th>\n",
       "      <th>lat</th>\n",
       "      <th>long</th>\n",
       "      <th>posting_date</th>\n",
       "    </tr>\n",
       "  </thead>\n",
       "  <tbody>\n",
       "    <tr>\n",
       "      <th>0</th>\n",
       "      <td>7222695916</td>\n",
       "      <td>https://prescott.craigslist.org/cto/d/prescott...</td>\n",
       "      <td>prescott</td>\n",
       "      <td>https://prescott.craigslist.org</td>\n",
       "      <td>6000</td>\n",
       "      <td>&lt;NA&gt;</td>\n",
       "      <td>&lt;NA&gt;</td>\n",
       "      <td>&lt;NA&gt;</td>\n",
       "      <td>&lt;NA&gt;</td>\n",
       "      <td>&lt;NA&gt;</td>\n",
       "      <td>...</td>\n",
       "      <td>&lt;NA&gt;</td>\n",
       "      <td>&lt;NA&gt;</td>\n",
       "      <td>&lt;NA&gt;</td>\n",
       "      <td>&lt;NA&gt;</td>\n",
       "      <td>&lt;NA&gt;</td>\n",
       "      <td>&lt;NA&gt;</td>\n",
       "      <td>az</td>\n",
       "      <td>&lt;NA&gt;</td>\n",
       "      <td>&lt;NA&gt;</td>\n",
       "      <td>&lt;NA&gt;</td>\n",
       "    </tr>\n",
       "    <tr>\n",
       "      <th>1</th>\n",
       "      <td>7218891961</td>\n",
       "      <td>https://fayar.craigslist.org/ctd/d/bentonville...</td>\n",
       "      <td>fayetteville</td>\n",
       "      <td>https://fayar.craigslist.org</td>\n",
       "      <td>11900</td>\n",
       "      <td>&lt;NA&gt;</td>\n",
       "      <td>&lt;NA&gt;</td>\n",
       "      <td>&lt;NA&gt;</td>\n",
       "      <td>&lt;NA&gt;</td>\n",
       "      <td>&lt;NA&gt;</td>\n",
       "      <td>...</td>\n",
       "      <td>&lt;NA&gt;</td>\n",
       "      <td>&lt;NA&gt;</td>\n",
       "      <td>&lt;NA&gt;</td>\n",
       "      <td>&lt;NA&gt;</td>\n",
       "      <td>&lt;NA&gt;</td>\n",
       "      <td>&lt;NA&gt;</td>\n",
       "      <td>ar</td>\n",
       "      <td>&lt;NA&gt;</td>\n",
       "      <td>&lt;NA&gt;</td>\n",
       "      <td>&lt;NA&gt;</td>\n",
       "    </tr>\n",
       "    <tr>\n",
       "      <th>2</th>\n",
       "      <td>7221797935</td>\n",
       "      <td>https://keys.craigslist.org/cto/d/summerland-k...</td>\n",
       "      <td>florida keys</td>\n",
       "      <td>https://keys.craigslist.org</td>\n",
       "      <td>21000</td>\n",
       "      <td>&lt;NA&gt;</td>\n",
       "      <td>&lt;NA&gt;</td>\n",
       "      <td>&lt;NA&gt;</td>\n",
       "      <td>&lt;NA&gt;</td>\n",
       "      <td>&lt;NA&gt;</td>\n",
       "      <td>...</td>\n",
       "      <td>&lt;NA&gt;</td>\n",
       "      <td>&lt;NA&gt;</td>\n",
       "      <td>&lt;NA&gt;</td>\n",
       "      <td>&lt;NA&gt;</td>\n",
       "      <td>&lt;NA&gt;</td>\n",
       "      <td>&lt;NA&gt;</td>\n",
       "      <td>fl</td>\n",
       "      <td>&lt;NA&gt;</td>\n",
       "      <td>&lt;NA&gt;</td>\n",
       "      <td>&lt;NA&gt;</td>\n",
       "    </tr>\n",
       "    <tr>\n",
       "      <th>3</th>\n",
       "      <td>7222270760</td>\n",
       "      <td>https://worcester.craigslist.org/cto/d/west-br...</td>\n",
       "      <td>worcester / central MA</td>\n",
       "      <td>https://worcester.craigslist.org</td>\n",
       "      <td>1500</td>\n",
       "      <td>&lt;NA&gt;</td>\n",
       "      <td>&lt;NA&gt;</td>\n",
       "      <td>&lt;NA&gt;</td>\n",
       "      <td>&lt;NA&gt;</td>\n",
       "      <td>&lt;NA&gt;</td>\n",
       "      <td>...</td>\n",
       "      <td>&lt;NA&gt;</td>\n",
       "      <td>&lt;NA&gt;</td>\n",
       "      <td>&lt;NA&gt;</td>\n",
       "      <td>&lt;NA&gt;</td>\n",
       "      <td>&lt;NA&gt;</td>\n",
       "      <td>&lt;NA&gt;</td>\n",
       "      <td>ma</td>\n",
       "      <td>&lt;NA&gt;</td>\n",
       "      <td>&lt;NA&gt;</td>\n",
       "      <td>&lt;NA&gt;</td>\n",
       "    </tr>\n",
       "  </tbody>\n",
       "</table>\n",
       "<p>4 rows × 26 columns</p>\n",
       "</div>"
      ],
      "text/plain": [
       "           id                                                url  \\\n",
       "0  7222695916  https://prescott.craigslist.org/cto/d/prescott...   \n",
       "1  7218891961  https://fayar.craigslist.org/ctd/d/bentonville...   \n",
       "2  7221797935  https://keys.craigslist.org/cto/d/summerland-k...   \n",
       "3  7222270760  https://worcester.craigslist.org/cto/d/west-br...   \n",
       "\n",
       "                   region                        region_url  price  year  \\\n",
       "0                prescott   https://prescott.craigslist.org   6000  <NA>   \n",
       "1            fayetteville      https://fayar.craigslist.org  11900  <NA>   \n",
       "2            florida keys       https://keys.craigslist.org  21000  <NA>   \n",
       "3  worcester / central MA  https://worcester.craigslist.org   1500  <NA>   \n",
       "\n",
       "  manufacturer model condition cylinders  ...  size  type paint_color  \\\n",
       "0         <NA>  <NA>      <NA>      <NA>  ...  <NA>  <NA>        <NA>   \n",
       "1         <NA>  <NA>      <NA>      <NA>  ...  <NA>  <NA>        <NA>   \n",
       "2         <NA>  <NA>      <NA>      <NA>  ...  <NA>  <NA>        <NA>   \n",
       "3         <NA>  <NA>      <NA>      <NA>  ...  <NA>  <NA>        <NA>   \n",
       "\n",
       "  image_url description county state   lat  long posting_date  \n",
       "0      <NA>        <NA>   <NA>    az  <NA>  <NA>         <NA>  \n",
       "1      <NA>        <NA>   <NA>    ar  <NA>  <NA>         <NA>  \n",
       "2      <NA>        <NA>   <NA>    fl  <NA>  <NA>         <NA>  \n",
       "3      <NA>        <NA>   <NA>    ma  <NA>  <NA>         <NA>  \n",
       "\n",
       "[4 rows x 26 columns]"
      ]
     },
     "execution_count": 3,
     "metadata": {},
     "output_type": "execute_result"
    }
   ],
   "source": [
    "df = pd.read_csv(\"./data/vehicles.csv\")\n",
    "df=df.convert_dtypes()\n",
    "df=reduce_mem_usage(df,verbose=True)\n",
    "df.shape\n",
    "df[0:4]"
   ]
  },
  {
   "cell_type": "code",
   "execution_count": 4,
   "metadata": {},
   "outputs": [
    {
     "name": "stdout",
     "output_type": "stream",
     "text": [
      "<class 'pandas.core.frame.DataFrame'>\n",
      "RangeIndex: 426880 entries, 0 to 426879\n",
      "Data columns (total 26 columns):\n",
      " #   Column        Non-Null Count   Dtype  \n",
      "---  ------        --------------   -----  \n",
      " 0   id            426880 non-null  Int64  \n",
      " 1   url           426880 non-null  string \n",
      " 2   region        426880 non-null  string \n",
      " 3   region_url    426880 non-null  string \n",
      " 4   price         426880 non-null  Int64  \n",
      " 5   year          425675 non-null  Int64  \n",
      " 6   manufacturer  409234 non-null  string \n",
      " 7   model         421603 non-null  string \n",
      " 8   condition     252776 non-null  string \n",
      " 9   cylinders     249202 non-null  string \n",
      " 10  fuel          423867 non-null  string \n",
      " 11  odometer      422480 non-null  Int64  \n",
      " 12  title_status  418638 non-null  string \n",
      " 13  transmission  424324 non-null  string \n",
      " 14  VIN           265838 non-null  string \n",
      " 15  drive         296313 non-null  string \n",
      " 16  size          120519 non-null  string \n",
      " 17  type          334022 non-null  string \n",
      " 18  paint_color   296677 non-null  string \n",
      " 19  image_url     426812 non-null  string \n",
      " 20  description   426810 non-null  string \n",
      " 21  county        0 non-null       Int64  \n",
      " 22  state         426880 non-null  string \n",
      " 23  lat           420331 non-null  Float64\n",
      " 24  long          420331 non-null  Float64\n",
      " 25  posting_date  426812 non-null  string \n",
      "dtypes: Float64(2), Int64(5), string(19)\n",
      "memory usage: 87.5 MB\n"
     ]
    }
   ],
   "source": [
    "df.info(verbose=True)"
   ]
  },
  {
   "cell_type": "code",
   "execution_count": 5,
   "metadata": {},
   "outputs": [
    {
     "data": {
      "text/plain": [
       "<StringArray>\n",
       "[                  'f-150 xlt',  'ranger supercrew xl pickup',\n",
       " 'f150 super cab xl pickup 4d',      'f150 supercrew cab xlt',\n",
       "   'ranger supercab xl pickup',             'f250 super duty',\n",
       "  'f150 regular cab xl pickup',          'mustang gt premium',\n",
       "                        'f450',        'expedition xlt sport',\n",
       " ...\n",
       "     'e450 super duty cutaway',   'e-series chassis e-350 sd',\n",
       "              'f15o fx4 sport',              'f-150 heritage',\n",
       "         'ranger pickup truck',                  'ranger rmt',\n",
       "        'f250 crew cab diesel',             'taurus wagon lx',\n",
       "                   'f150, xlt',              'f150, platinum']\n",
       "Length: 3875, dtype: string"
      ]
     },
     "execution_count": 5,
     "metadata": {},
     "output_type": "execute_result"
    }
   ],
   "source": [
    "df[(df['manufacturer']==\"ford\")]['model'].unique()"
   ]
  },
  {
   "cell_type": "markdown",
   "metadata": {},
   "source": [
    "#### **Split dataset** "
   ]
  },
  {
   "cell_type": "code",
   "execution_count": 6,
   "metadata": {},
   "outputs": [
    {
     "name": "stdout",
     "output_type": "stream",
     "text": [
      "(341504, 26) (85376, 26)\n"
     ]
    }
   ],
   "source": [
    "df_train, df_test = train_test_split(df, test_size=0.2)\n",
    "print(df_train.shape, df_test.shape)"
   ]
  },
  {
   "cell_type": "markdown",
   "metadata": {},
   "source": [
    "#### **Data Function**\n",
    "\n",
    "data preperation\n",
    "\n",
    "feature engineering"
   ]
  },
  {
   "cell_type": "code",
   "execution_count": 7,
   "metadata": {},
   "outputs": [],
   "source": [
    "def data_preparation(df:pd.DataFrame)->pd.DataFrame:\n",
    "    \"\"\"\"\n",
    "    make data valid\n",
    "    \"\"\"\n",
    "    def keep_first_word(s):\n",
    "        if pd.notnull(s):  # Use pd.notnull instead of not pd.isnull\n",
    "            s = str(s).lower()\n",
    "            s=s.split()[0]\n",
    "            s = re.sub('[^a-zA-Z0-9]', '', s)\n",
    "            if(len(s)<3):\n",
    "                return np.nan\n",
    "            else:\n",
    "                return s\n",
    "        else:\n",
    "            return np.nan  # Return np.nan for null values\n",
    "\n",
    "        #Remove meaningless columns\n",
    "    df.drop(['id','url','region','region_url','title_status',\n",
    "         'image_url','VIN','size','county','description',\n",
    "         'state','lat','long'], \n",
    "        axis=1, inplace=True)\n",
    "\n",
    "    df = df.dropna(subset=['year', 'odometer', 'manufacturer', 'model'])\n",
    "    df = df.fillna('unknown')\n",
    "\n",
    "    # remove oultier \n",
    "    price_percentile25 = df['price'].quantile(0.25)\n",
    "    price_percentile75 = df['price'].quantile(0.75)\n",
    "    price_iqr = price_percentile75 - price_percentile25\n",
    "    price_upper_limit = price_percentile75 + 1.5 * price_iqr\n",
    "    price_lower_limit = df['price'].quantile(0.15)\n",
    "    df = df[(df['price'] < price_upper_limit) & (df['price'] > price_lower_limit)]\n",
    "\n",
    "\n",
    "    odometer_percentile75 = df['odometer'].quantile(0.75)\n",
    "    odometer_percentile25 = df['odometer'].quantile(0.25)\n",
    "    odometer_iqr = odometer_percentile75 - odometer_percentile25\n",
    "    odometer_upper_limit = odometer_percentile75 + 1.5 * odometer_iqr\n",
    "    odometer_lower_limit = df['odometer'].quantile(0.05)\n",
    "    df = df[(df['odometer'] < odometer_upper_limit) & (df['odometer'] > odometer_lower_limit)]\n",
    "\n",
    "    # process model col\n",
    "    df['model'] = df['model'].apply(keep_first_word)\n",
    "    df['model'] = df['model'].fillna(\"unknown\")\n",
    "    md = df['model'].value_counts()\n",
    "    df['model'] = df['model'].apply(lambda s: str(s) if str(s) in md[:50] else \"unknown\")\n",
    "\n",
    "    mf = df['manufacturer'].value_counts()\n",
    "    df['manufacturer'] = df['manufacturer'].apply(lambda s: str(s) if str(s) in mf[:20] else \"others\")\n",
    "\n",
    "    df['condition'] = df['condition'].fillna(\"unknown\")\n",
    "\n",
    "    # fill data from real world !!!!!!\n",
    "    temp = df.loc[(df['manufacturer']==\"ford\") & (df['model']==\"f150\")]\n",
    "    df.loc[temp.index, \"cylinders\"]=df.loc[(df['manufacturer']==\"ford\") & (df['model']==\"f150\"), \"cylinders\"].fillna(\"6 cylinders\")\n",
    "    df['cylinders'] = df['cylinders'].fillna(\"others\")\n",
    "\n",
    "\n",
    "    # clean the odometer data by computing averge between 0.05 and 0.95\n",
    "    o1 = df['odometer'].quantile(0.95)\n",
    "    o2 = df['odometer'].quantile(0.05)\n",
    "    odometer_avg= df[(df['odometer']<o1) & (df['odometer']>o2)]['odometer'].mean()\n",
    "    df['odometer'] = df['odometer'].fillna(int(odometer_avg))\n",
    "    \n",
    "\n",
    "    df = df.dropna(subset=['year'])\n",
    "    df = df.drop_duplicates()\n",
    "\n",
    "    # turn nominal data into number\n",
    "    y = df['price']\n",
    "    x =df.drop(columns=['price'])\n",
    "    x=x.convert_dtypes()\n",
    "\n",
    "    return x,y\n",
    "\n",
    "def feature_engineering(df:pd.DataFrame)->pd.DataFrame:\n",
    "    \"\"\"\"\n",
    "    select useful feature\n",
    "    \"\"\"\n",
    "    #vehicle_age=posting_year - year, get the usage time of this vehicle\n",
    "    df[\"posting_date\"] = pd.to_datetime(df[\"posting_date\"], utc=True)\n",
    "    df[\"posting_year\"] = df[\"posting_date\"].dt.year\n",
    "    df[\"vehicle_age\"] = df[\"posting_year\"] - df[\"year\"]\n",
    "    \n",
    "    df.drop(['posting_date','posting_year'], \n",
    "        axis=1, inplace=True)\n",
    "    \n",
    "    return df\n",
    "\n",
    "\n",
    "def data_preprocessing(df:pd.DataFrame)->pd.DataFrame:\n",
    "    x , y =data_preparation(df)\n",
    "    x=feature_engineering(x)\n",
    "    return x,y\n",
    "\n"
   ]
  },
  {
   "cell_type": "code",
   "execution_count": 8,
   "metadata": {},
   "outputs": [
    {
     "name": "stdout",
     "output_type": "stream",
     "text": [
      "year            0\n",
      "manufacturer    0\n",
      "model           0\n",
      "condition       0\n",
      "cylinders       0\n",
      "fuel            0\n",
      "odometer        0\n",
      "transmission    0\n",
      "drive           0\n",
      "type            0\n",
      "paint_color     0\n",
      "vehicle_age     0\n",
      "dtype: int64\n",
      "<StringArray>\n",
      "[         <NA>,      'pickup',       'truck',       'other',       'coupe',\n",
      "         'SUV',   'hatchback',    'mini-van',       'sedan',     'offroad',\n",
      "         'bus',         'van', 'convertible',       'wagon']\n",
      "Length: 14, dtype: string\n",
      "(250467, 12) (250467,)\n"
     ]
    }
   ],
   "source": [
    "df_train_x,df_train_y = data_preprocessing(df_train)\n",
    "df_test_x, df_test_y = data_preprocessing(df_test)\n",
    "\n",
    "print(df_train_x.isna().sum())\n",
    "print(df['type'].unique())\n",
    "print(df_train_x.shape, df_train_y.shape)"
   ]
  },
  {
   "cell_type": "code",
   "execution_count": 9,
   "metadata": {},
   "outputs": [
    {
     "name": "stdout",
     "output_type": "stream",
     "text": [
      "<class 'pandas.core.frame.DataFrame'>\n",
      "Index: 250467 entries, 367819 to 168458\n",
      "Data columns (total 12 columns):\n",
      " #   Column        Non-Null Count   Dtype \n",
      "---  ------        --------------   ----- \n",
      " 0   year          250467 non-null  Int64 \n",
      " 1   manufacturer  250467 non-null  string\n",
      " 2   model         250467 non-null  string\n",
      " 3   condition     250467 non-null  string\n",
      " 4   cylinders     250467 non-null  string\n",
      " 5   fuel          250467 non-null  string\n",
      " 6   odometer      250467 non-null  Int64 \n",
      " 7   transmission  250467 non-null  string\n",
      " 8   drive         250467 non-null  string\n",
      " 9   type          250467 non-null  string\n",
      " 10  paint_color   250467 non-null  string\n",
      " 11  vehicle_age   250467 non-null  Int64 \n",
      "dtypes: Int64(3), string(9)\n",
      "memory usage: 25.6 MB\n"
     ]
    }
   ],
   "source": [
    "df_train_x.info()"
   ]
  },
  {
   "cell_type": "code",
   "execution_count": 10,
   "metadata": {},
   "outputs": [
    {
     "name": "stdout",
     "output_type": "stream",
     "text": [
      "<class 'pandas.core.frame.DataFrame'>\n",
      "RangeIndex: 500934 entries, 0 to 500933\n",
      "Data columns (total 12 columns):\n",
      " #   Column        Non-Null Count   Dtype \n",
      "---  ------        --------------   ----- \n",
      " 0   year          500934 non-null  Int64 \n",
      " 1   manufacturer  500934 non-null  string\n",
      " 2   model         500934 non-null  string\n",
      " 3   condition     500934 non-null  string\n",
      " 4   cylinders     500934 non-null  string\n",
      " 5   fuel          500934 non-null  string\n",
      " 6   odometer      500934 non-null  Int64 \n",
      " 7   transmission  500934 non-null  string\n",
      " 8   drive         500934 non-null  string\n",
      " 9   type          500934 non-null  string\n",
      " 10  paint_color   500934 non-null  string\n",
      " 11  vehicle_age   500934 non-null  Int64 \n",
      "dtypes: Int64(3), string(9)\n",
      "memory usage: 47.3 MB\n"
     ]
    }
   ],
   "source": [
    "temppd = pd.concat([df_train_x, df_train_x],ignore_index=True)\n",
    "temppd.info()"
   ]
  },
  {
   "cell_type": "code",
   "execution_count": 11,
   "metadata": {},
   "outputs": [
    {
     "data": {
      "text/plain": [
       "<StringArray>\n",
       "[   'unknown',    'outback',      'rogue',       '1500', 'expedition',\n",
       "       '2500',    'transit',     'escape',  'silverado',      'super',\n",
       "       'f350',       'f150',      'camry',     'accord',     'altima',\n",
       "      'tahoe',     'sierra',       'f250',   'explorer',    'equinox',\n",
       "    'odyssey',      'focus',      'yukon',     'tacoma',   'wrangler',\n",
       "     'malibu',        'crv',     'fusion',      'grand',    'mustang',\n",
       "     'sonata',    'corolla',    'elantra',      'civic',      'cruze',\n",
       "     'impala',       'edge',    'charger',      'prius',   'corvette',\n",
       "      'jetta',       'rav4',   'colorado',    '4runner',       'benz',\n",
       "        'mdx',     'camaro',     'tundra',       '3500',   'forester']\n",
       "Length: 50, dtype: string"
      ]
     },
     "execution_count": 11,
     "metadata": {},
     "output_type": "execute_result"
    }
   ],
   "source": [
    "df_train_x['model'].unique()"
   ]
  },
  {
   "cell_type": "code",
   "execution_count": null,
   "metadata": {},
   "outputs": [],
   "source": []
  },
  {
   "cell_type": "code",
   "execution_count": 12,
   "metadata": {},
   "outputs": [
    {
     "name": "stdout",
     "output_type": "stream",
     "text": [
      "['manufacturer', 'model', 'condition', 'cylinders', 'fuel', 'transmission', 'drive', 'type', 'paint_color']\n",
      "Labeling of manufacturer col\n",
      "Labeling of model col\n",
      "Labeling of condition col\n",
      "Labeling of cylinders col\n",
      "Labeling of fuel col\n",
      "Labeling of transmission col\n",
      "Labeling of drive col\n",
      "Labeling of type col\n",
      "Labeling of paint_color col\n"
     ]
    }
   ],
   "source": [
    "#construct label encoder\n",
    "\n",
    "def encode(categorical_cols,learn_df,df1,df2):\n",
    "    for col in categorical_cols:\n",
    "        le = preprocessing.LabelEncoder()\n",
    "        print(f\"Labeling of {col} col\")\n",
    "        learn_df[col]=le.fit_transform(learn_df[col])\n",
    "        df1[col] = le.transform(df1[col])\n",
    "        df2[col] = le.transform(df2[col])\n",
    "    return learn_df,df1, df2\n",
    "\n",
    "def scale(learn_df,df1,df2):\n",
    "    cols =learn_df.columns.values.tolist()\n",
    "\n",
    "    scaler = StandardScaler().set_output(transform=\"pandas\")\n",
    "    scaler.fit(learn_df)\n",
    "    df1 = scaler.transform(df1)\n",
    "    df2 = scaler.transform(df2)\n",
    "    return df1, df2\n",
    "\n",
    "cols = df_test_x.columns.values.tolist()\n",
    "categorical_cols = []\n",
    "for col in cols:\n",
    "    if df_test_x[col].dtype == \"string\":\n",
    "        categorical_cols.append(col)\n",
    "\n",
    "print(f\"{categorical_cols}\")\n",
    "# get the encoder \n",
    "tempPd = pd.concat([df_train_x,df_test_x],ignore_index=True)\n",
    "tempPd,df_train_x,df_test_x = encode(categorical_cols,tempPd,df_train_x, df_test_x)\n",
    "df_train_x,df_test_x = scale(tempPd,df_train_x, df_test_x)\n",
    "#convert\n",
    "del tempPd"
   ]
  },
  {
   "cell_type": "code",
   "execution_count": 13,
   "metadata": {},
   "outputs": [
    {
     "name": "stdout",
     "output_type": "stream",
     "text": [
      "<class 'pandas.core.frame.DataFrame'>\n",
      "Index: 250467 entries, 367819 to 168458\n",
      "Data columns (total 12 columns):\n",
      " #   Column        Non-Null Count   Dtype  \n",
      "---  ------        --------------   -----  \n",
      " 0   year          250467 non-null  float64\n",
      " 1   manufacturer  250467 non-null  float64\n",
      " 2   model         250467 non-null  float64\n",
      " 3   condition     250467 non-null  float64\n",
      " 4   cylinders     250467 non-null  float64\n",
      " 5   fuel          250467 non-null  float64\n",
      " 6   odometer      250467 non-null  float64\n",
      " 7   transmission  250467 non-null  float64\n",
      " 8   drive         250467 non-null  float64\n",
      " 9   type          250467 non-null  float64\n",
      " 10  paint_color   250467 non-null  float64\n",
      " 11  vehicle_age   250467 non-null  float64\n",
      "dtypes: float64(12)\n",
      "memory usage: 24.8 MB\n"
     ]
    }
   ],
   "source": [
    "df_train_x.info()"
   ]
  },
  {
   "cell_type": "code",
   "execution_count": 14,
   "metadata": {},
   "outputs": [
    {
     "name": "stdout",
     "output_type": "stream",
     "text": [
      "<class 'pandas.core.frame.DataFrame'>\n",
      "Index: 62748 entries, 266523 to 58290\n",
      "Data columns (total 12 columns):\n",
      " #   Column        Non-Null Count  Dtype  \n",
      "---  ------        --------------  -----  \n",
      " 0   year          62748 non-null  float64\n",
      " 1   manufacturer  62748 non-null  float64\n",
      " 2   model         62748 non-null  float64\n",
      " 3   condition     62748 non-null  float64\n",
      " 4   cylinders     62748 non-null  float64\n",
      " 5   fuel          62748 non-null  float64\n",
      " 6   odometer      62748 non-null  float64\n",
      " 7   transmission  62748 non-null  float64\n",
      " 8   drive         62748 non-null  float64\n",
      " 9   type          62748 non-null  float64\n",
      " 10  paint_color   62748 non-null  float64\n",
      " 11  vehicle_age   62748 non-null  float64\n",
      "dtypes: float64(12)\n",
      "memory usage: 6.2 MB\n"
     ]
    }
   ],
   "source": [
    "df_test_x.info()"
   ]
  },
  {
   "cell_type": "code",
   "execution_count": null,
   "metadata": {},
   "outputs": [],
   "source": []
  },
  {
   "cell_type": "markdown",
   "metadata": {},
   "source": [
    "#### **Training and Evaluation**"
   ]
  },
  {
   "cell_type": "code",
   "execution_count": 15,
   "metadata": {},
   "outputs": [
    {
     "name": "stdout",
     "output_type": "stream",
     "text": [
      "Fitting 2 folds for each of 1 candidates, totalling 2 fits\n",
      "[LightGBM] [Info] This is the GPU trainer!!\n",
      "[LightGBM] [Info] Total Bins 578\n",
      "[LightGBM] [Info] Number of data points in the train set: 125233, number of used features: 12\n",
      "[LightGBM] [Info] Using GPU Device: NVIDIA GeForce RTX 2080, Vendor: NVIDIA Corporation\n",
      "[LightGBM] [Info] Compiling OpenCL Kernel with 256 bins...\n",
      "[LightGBM] [Info] GPU programs have been built\n",
      "[LightGBM] [Info] Size of histogram bin entry: 8\n",
      "[LightGBM] [Info] 10 dense feature groups (1.43 MB) transferred to GPU in 0.002886 secs. 1 sparse feature groups\n",
      "[LightGBM] [Info] Start training from score 15995.000000\n",
      "[LightGBM] [Info] This is the GPU trainer!!\n",
      "[LightGBM] [Info] Total Bins 576\n",
      "[LightGBM] [Info] Number of data points in the train set: 125234, number of used features: 12\n",
      "[LightGBM] [Info] Using GPU Device: NVIDIA GeForce RTX 2080, Vendor: NVIDIA Corporation\n",
      "[LightGBM] [Info] Compiling OpenCL Kernel with 256 bins...\n",
      "[LightGBM] [Info] GPU programs have been built\n",
      "[LightGBM] [Info] Size of histogram bin entry: 8\n",
      "[LightGBM] [Info] 10 dense feature groups (1.43 MB) transferred to GPU in 0.003059 secs. 1 sparse feature groups\n",
      "[LightGBM] [Info] Start training from score 16000.000000\n",
      "[LightGBM] [Info] This is the GPU trainer!!\n",
      "[LightGBM] [Info] Total Bins 582\n",
      "[LightGBM] [Info] Number of data points in the train set: 250467, number of used features: 12\n",
      "[LightGBM] [Info] Using GPU Device: NVIDIA GeForce RTX 2080, Vendor: NVIDIA Corporation\n",
      "[LightGBM] [Info] Compiling OpenCL Kernel with 256 bins...\n",
      "[LightGBM] [Info] GPU programs have been built\n",
      "[LightGBM] [Info] Size of histogram bin entry: 8\n",
      "[LightGBM] [Info] 10 dense feature groups (2.87 MB) transferred to GPU in 0.003263 secs. 1 sparse feature groups\n",
      "[LightGBM] [Info] Start training from score 15999.000000\n",
      "Root Mean Squared Error: 10189.066378002453\n",
      "Mean Absolute Error: 7808.3364891686215\n",
      "R-squared: 0.278786538676995\n"
     ]
    },
    {
     "data": {
      "image/png": "[encoded data removed]",
      "text/plain": [
       "<Figure size 640x480 with 1 Axes>"
      ]
     },
     "metadata": {},
     "output_type": "display_data"
    }
   ],
   "source": [
    "# training\n",
    "numJobs=1\n",
    "cv=2\n",
    "paramgrid={\n",
    "                \"n_estimators\": [300],\n",
    "                \"num_leaves\": [256],\n",
    "                \"subsample\": [1],\n",
    "                \"colsample_bytree\":[0.8],\n",
    "                \"learning_rate\": [0.001],\n",
    "            }\n",
    "\n",
    "model = lgb.LGBMRegressor(n_estimators= 500,random_state=4487,objective='mae',learning_rate=0.05,importance_type= \"gain\",device=\"gpu\")\n",
    "modelCV= GridSearchCV(model,param_grid=paramgrid,n_jobs=numJobs,verbose=True,cv=cv)\n",
    "modelCV.fit(df_train_x, df_train_y)\n",
    "\n",
    "#predict\n",
    "y_pred = modelCV.predict(df_test_x)\n",
    "\n",
    "#evaluation\n",
    "\n",
    "# RMSE\n",
    "rmse = np.sqrt(mean_squared_error(df_test_y, y_pred))\n",
    "print(f\"Root Mean Squared Error: {rmse}\")\n",
    "\n",
    "# MAE\n",
    "mae = mean_absolute_error(df_test_y, y_pred)\n",
    "print(f\"Mean Absolute Error: {mae}\")\n",
    "\n",
    "# R2\n",
    "r2 = r2_score(df_test_y, y_pred)\n",
    "print(f\"R-squared: {r2}\")\n",
    "\n",
    "#Residual Analysis: \n",
    "residuals = df_test_y - y_pred\n",
    "\n",
    "plt.scatter(y_pred, residuals)\n",
    "plt.axhline(y=0, color='r', linestyle='--')\n",
    "plt.xlabel('Predicted Values')\n",
    "plt.ylabel('Residuals')\n",
    "plt.title('Residual Plot')\n",
    "plt.show()"
   ]
  }
 ],
 "metadata": {
  "kernelspec": {
   "display_name": "base",
   "language": "python",
   "name": "python3"
  },
  "language_info": {
   "codemirror_mode": {
    "name": "ipython",
    "version": 3
   },
   "file_extension": ".py",
   "mimetype": "text/x-python",
   "name": "python",
   "nbconvert_exporter": "python",
   "pygments_lexer": "ipython3",
   "version": "3.11.5"
  }
 },
 "nbformat": 4,
 "nbformat_minor": 2
}
